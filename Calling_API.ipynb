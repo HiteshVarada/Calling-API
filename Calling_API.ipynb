{
 "cells": [
  {
   "cell_type": "code",
   "execution_count": 1,
   "id": "c714bc8c",
   "metadata": {},
   "outputs": [],
   "source": [
    "import pandas as pd\n",
    "import numpy as np"
   ]
  },
  {
   "cell_type": "code",
   "execution_count": 2,
   "id": "d3b5789f",
   "metadata": {},
   "outputs": [],
   "source": [
    "\n",
    "from requests import Request, Session\n",
    "from requests.exceptions import ConnectionError, Timeout, TooManyRedirects\n",
    "import json\n",
    "\n",
    "url = 'https://pro-api.coinmarketcap.com/v1/cryptocurrency/listings/latest'\n",
    "parameters = {\n",
    "  'start':'1',\n",
    "  'limit':'5000',\n",
    "  'convert':'USD'\n",
    "}\n",
    "headers = {\n",
    "  'Accepts': 'application/json',\n",
    "  'X-CMC_PRO_API_KEY': '488130e4-811e-414a-a9ca-4376a9d356d6',\n",
    "}\n",
    "\n",
    "session = Session()\n",
    "session.headers.update(headers)\n",
    "\n",
    "try:\n",
    "  response = session.get(url, params=parameters)\n",
    "  data = json.loads(response.text)\n",
    "except (ConnectionError, Timeout, TooManyRedirects) as e:\n",
    "  print(e)"
   ]
  },
  {
   "cell_type": "code",
   "execution_count": 3,
   "id": "b4308192",
   "metadata": {},
   "outputs": [],
   "source": [
    "pd.set_option('display.max_columns',None)\n",
    "df=pd.json_normalize(data['data'])"
   ]
  },
  {
   "cell_type": "code",
   "execution_count": 5,
   "id": "d27dbee5",
   "metadata": {},
   "outputs": [
    {
     "name": "stdout",
     "output_type": "stream",
     "text": [
      "<class 'pandas.core.frame.DataFrame'>\n",
      "RangeIndex: 5000 entries, 0 to 4999\n",
      "Data columns (total 36 columns):\n",
      " #   Column                              Non-Null Count  Dtype  \n",
      "---  ------                              --------------  -----  \n",
      " 0   id                                  5000 non-null   int64  \n",
      " 1   name                                5000 non-null   object \n",
      " 2   symbol                              5000 non-null   object \n",
      " 3   slug                                5000 non-null   object \n",
      " 4   num_market_pairs                    5000 non-null   int64  \n",
      " 5   date_added                          5000 non-null   object \n",
      " 6   tags                                5000 non-null   object \n",
      " 7   max_supply                          3768 non-null   float64\n",
      " 8   circulating_supply                  5000 non-null   float64\n",
      " 9   total_supply                        5000 non-null   object \n",
      " 10  infinite_supply                     5000 non-null   bool   \n",
      " 11  platform                            0 non-null      float64\n",
      " 12  cmc_rank                            5000 non-null   int64  \n",
      " 13  self_reported_circulating_supply    2734 non-null   float64\n",
      " 14  self_reported_market_cap            2734 non-null   float64\n",
      " 15  tvl_ratio                           83 non-null     float64\n",
      " 16  last_updated                        5000 non-null   object \n",
      " 17  quote.USD.price                     5000 non-null   float64\n",
      " 18  quote.USD.volume_24h                5000 non-null   float64\n",
      " 19  quote.USD.volume_change_24h         5000 non-null   float64\n",
      " 20  quote.USD.percent_change_1h         5000 non-null   float64\n",
      " 21  quote.USD.percent_change_24h        5000 non-null   float64\n",
      " 22  quote.USD.percent_change_7d         5000 non-null   float64\n",
      " 23  quote.USD.percent_change_30d        5000 non-null   float64\n",
      " 24  quote.USD.percent_change_60d        5000 non-null   float64\n",
      " 25  quote.USD.percent_change_90d        5000 non-null   float64\n",
      " 26  quote.USD.market_cap                5000 non-null   float64\n",
      " 27  quote.USD.market_cap_dominance      5000 non-null   float64\n",
      " 28  quote.USD.fully_diluted_market_cap  5000 non-null   float64\n",
      " 29  quote.USD.tvl                       89 non-null     float64\n",
      " 30  quote.USD.last_updated              5000 non-null   object \n",
      " 31  platform.id                         4236 non-null   float64\n",
      " 32  platform.name                       4236 non-null   object \n",
      " 33  platform.symbol                     4236 non-null   object \n",
      " 34  platform.slug                       4236 non-null   object \n",
      " 35  platform.token_address              4236 non-null   object \n",
      "dtypes: bool(1), float64(20), int64(3), object(12)\n",
      "memory usage: 1.3+ MB\n"
     ]
    }
   ],
   "source": [
    "df.info()"
   ]
  },
  {
   "cell_type": "code",
   "execution_count": null,
   "id": "7947a709",
   "metadata": {},
   "outputs": [],
   "source": []
  },
  {
   "cell_type": "code",
   "execution_count": null,
   "id": "74a1ab96",
   "metadata": {},
   "outputs": [],
   "source": []
  },
  {
   "cell_type": "code",
   "execution_count": null,
   "id": "7e5f664d",
   "metadata": {},
   "outputs": [],
   "source": []
  }
 ],
 "metadata": {
  "kernelspec": {
   "display_name": "Python 3 (ipykernel)",
   "language": "python",
   "name": "python3"
  },
  "language_info": {
   "codemirror_mode": {
    "name": "ipython",
    "version": 3
   },
   "file_extension": ".py",
   "mimetype": "text/x-python",
   "name": "python",
   "nbconvert_exporter": "python",
   "pygments_lexer": "ipython3",
   "version": "3.9.7"
  }
 },
 "nbformat": 4,
 "nbformat_minor": 5
}
